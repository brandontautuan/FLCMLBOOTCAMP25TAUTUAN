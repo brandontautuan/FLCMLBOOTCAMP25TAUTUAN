{
  "nbformat": 4,
  "nbformat_minor": 0,
  "metadata": {
    "colab": {
      "provenance": [],
      "include_colab_link": true
    },
    "kernelspec": {
      "name": "python3",
      "display_name": "Python 3"
    },
    "language_info": {
      "name": "python"
    }
  },
  "cells": [
    {
      "cell_type": "markdown",
      "metadata": {
        "id": "view-in-github",
        "colab_type": "text"
      },
      "source": [
        "<a href=\"https://colab.research.google.com/github/brandontautuan/FLCMLBOOTCAMP25TAUTUAN/blob/main/2_Basics_PythonProgramming_Takehome.ipynb\" target=\"_parent\"><img src=\"https://colab.research.google.com/assets/colab-badge.svg\" alt=\"Open In Colab\"/></a>"
      ]
    },
    {
      "cell_type": "markdown",
      "source": [
        "# Personal Finance 101 with Python\n",
        "\n",
        "- Investing is crucial for wealth growth, financial security, and achieving long-term financial goals.\n",
        "- One of the biggest reasons to invest is the power of compounding, which allows your money to grow exponentially over time."
      ],
      "metadata": {
        "id": "BGhlVvcyZGWp"
      }
    },
    {
      "cell_type": "markdown",
      "source": [
        "### Understanding the Compounding Effect\n",
        "\n",
        "$$ A = P * \\left( 1 + \\frac{r}{n} \\right) ^{n*t}$$\n",
        "\n",
        "Where,\n",
        "\n",
        "- A  = Final amount\n",
        "- P  = Principal (initial investment)\n",
        "- r  = Annual interest rate (as a decimal)\n",
        "- n  = Times interest is compounded per year\n",
        "- t  = Time in years\n"
      ],
      "metadata": {
        "id": "zyYa0RR2L_8n"
      }
    },
    {
      "cell_type": "code",
      "source": [],
      "metadata": {
        "id": "vrYuenc7bSCN"
      },
      "execution_count": null,
      "outputs": []
    },
    {
      "cell_type": "code",
      "execution_count": null,
      "metadata": {
        "id": "XrEjSeR5UQVl",
        "cellView": "form"
      },
      "outputs": [],
      "source": [
        "#@title Compound Interest Calculator\n",
        "\n",
        "#@markdown Enter the principal amount (P in $):\n",
        "principal = 10000 #@param {type:\"number\"}\n",
        "\n",
        "#@markdown Enter the annual interest rate as a percentage (r):\n",
        "interest_rate = 6 #@param {type:\"number\"}\n",
        "\n",
        "#@markdown Enter the number of times interest is compounded per year (n):\n",
        "compounding_frequency = 1 #@param {type:\"number\"}\n",
        "\n",
        "#@markdown Enter the number of years (t):\n",
        "years = 10 #@param {type:\"number\"}\n",
        "\n",
        "\n",
        "# Calculate compound interest\n",
        "# 1. Convert percentage into decimal\n",
        "interest_rate_decimal =\n",
        "\n",
        "\n",
        "# 2. Calculate the final amount (A)\n",
        "final_amount =\n",
        "\n",
        "\n",
        "# 3. Calculate the total interest earned\n",
        "total_interest =\n",
        "\n",
        "\n",
        "# Display the results\n",
        "print(\"Compound Interest Calculator Results:\")\n",
        "print(f\"Principal Amount: ${principal:.2f}\")\n",
        "print(f\"Annual Interest Rate: {interest_rate:.2f}%\")\n",
        "print(f\"Compounding Frequency: {compounding_frequency} times per year\")\n",
        "print(f\"Number of Years: {years}\")\n",
        "print(f\"Total Amount: ${final_amount:.2f}\")\n",
        "print(f\"Total Interest Earned: ${total_interest:.2f}\")\n"
      ]
    },
    {
      "cell_type": "markdown",
      "source": [
        "### Effect of starting principal (P)\n",
        "\n",
        "Write a function to calculate total amount and total interest earned for starting principal (P in $): 10, 50, 100, 500 and 1000. Assume r=5%, n=1 and t=5.\n",
        "\n",
        "Hint: Iterate over a list data structure containing 'P' values using a compound interest calculator function"
      ],
      "metadata": {
        "id": "ScJlnZfEbTUH"
      }
    },
    {
      "cell_type": "code",
      "source": [
        "# Calculate the effect of starting principal (more 'P')\n",
        "r = 0.05\n",
        "n = 1\n",
        "t = 5\n",
        "p_values = [10, 50, 100, 500, 1000]\n",
        "\n",
        "for P in p_values:\n",
        "  A = P * (1 + r / n) ** (n * t)\n",
        "  interest = A - P\n",
        "  print(\"Principal amount: $\", P, \"Final amount: $\", round(A,2), \"Interest earned: $\", round(interest, 2))\n",
        "\n",
        "\n"
      ],
      "metadata": {
        "id": "MICZ2cnDbrZg",
        "colab": {
          "base_uri": "https://localhost:8080/"
        },
        "outputId": "5ba393b0-463f-4056-bb37-b177e6dbb57c"
      },
      "execution_count": null,
      "outputs": [
        {
          "output_type": "stream",
          "name": "stdout",
          "text": [
            "Principal amount: $ 10 Final amount: $ 12.76 Interest earned: $ 2.76\n",
            "Principal amount: $ 50 Final amount: $ 63.81 Interest earned: $ 13.81\n",
            "Principal amount: $ 100 Final amount: $ 127.63 Interest earned: $ 27.63\n",
            "Principal amount: $ 500 Final amount: $ 638.14 Interest earned: $ 138.14\n",
            "Principal amount: $ 1000 Final amount: $ 1276.28 Interest earned: $ 276.28\n"
          ]
        }
      ]
    },
    {
      "cell_type": "markdown",
      "source": [
        "#### Write a simple conclusion on what the effect of starting principal (more 'P') is on a compounding interest investment?"
      ],
      "metadata": {
        "id": "BIcD3dEecSpq"
      }
    },
    {
      "cell_type": "code",
      "source": [
        "# The higher the principal amount, the higher interest is earned. This results\n",
        "# in the final amount being higher %% [markdown] ### Effect of starting early\n",
        "# (more years of investing = more 't')"
      ],
      "metadata": {
        "id": "gCpivos6chhj"
      },
      "execution_count": null,
      "outputs": []
    },
    {
      "cell_type": "markdown",
      "source": [
        "### Effect of starting early (more years of investing = more 't')\n",
        "\n",
        "Reuse the compounding interest calculator function above and determine the effect of more years of investing 't': 2yrs, 5yrs, 10yrs, 20yrs, 30yrs. Assume P=\\$100, r=5% and n=1."
      ],
      "metadata": {
        "id": "3Zi_t5Ftcsw1"
      }
    },
    {
      "cell_type": "code",
      "source": [
        "# Calculate the effect of starting principal (more 'P')\n",
        "r = 0.05\n",
        "n = 1\n",
        "T_values = [2, 5, 10, 20, 30]\n",
        "P = 100\n",
        "\n",
        "for T in T_values:\n",
        "  A = P * (1 + r / n) ** (n * T)\n",
        "  interest = A - P\n",
        "  print(\"Principal amount: $\", P, \"Final amount: $\", round(A,2), \"Interest earned: $\", round(interest, 2))\n",
        "\n",
        "\n"
      ],
      "metadata": {
        "id": "a5jHCG7NdcBf",
        "colab": {
          "base_uri": "https://localhost:8080/"
        },
        "outputId": "c29f70f4-f530-4425-c98b-5666b234cbb5"
      },
      "execution_count": null,
      "outputs": [
        {
          "output_type": "stream",
          "name": "stdout",
          "text": [
            "Principal amount: $ 100 Final amount: $ 110.25 Interest earned: $ 10.25\n",
            "Principal amount: $ 100 Final amount: $ 127.63 Interest earned: $ 27.63\n",
            "Principal amount: $ 100 Final amount: $ 162.89 Interest earned: $ 62.89\n",
            "Principal amount: $ 100 Final amount: $ 265.33 Interest earned: $ 165.33\n",
            "Principal amount: $ 100 Final amount: $ 432.19 Interest earned: $ 332.19\n"
          ]
        }
      ]
    },
    {
      "cell_type": "markdown",
      "source": [
        "#### Write a simple conclusion on what the effect of starting early (more 't') is on a compounding interest investment?\n"
      ],
      "metadata": {
        "id": "dkDFHmiNdosi"
      }
    },
    {
      "cell_type": "markdown",
      "source": [
        "The more time that goes on, the higher more interest we receive in turn, increasing how much money the final amount gets."
      ],
      "metadata": {
        "id": "HUObbwckiUQu"
      }
    },
    {
      "cell_type": "markdown",
      "source": [
        "### Effect of better rate of return (more 'r')\n",
        "\n",
        "Reuse the compounding interest calculator function above and determine the effect of better rate of return 'r': 2%, 5%, 8% and 10%. Assume P=$100, n=1 and t=5."
      ],
      "metadata": {
        "id": "b4HolM8adwzl"
      }
    },
    {
      "cell_type": "code",
      "source": [
        "# Calculate the effect of better rate of return (more 'r')\n",
        "r = [0.02, 0.05, 0.08, 0.1]\n",
        "n = 1\n",
        "T = 5\n",
        "P = 100\n",
        "\n",
        "for r in r:\n",
        "  A = P * (1 + r / n) ** (n * T)\n",
        "  interest = A - P\n",
        "  print(\"Principal amount: $\", P, \"Final amount: $\", round(A,2), \"Interest earned: $\", round(interest, 2))\n",
        "\n",
        "\n",
        "\n",
        "\n"
      ],
      "metadata": {
        "id": "pbcjQ24Kew56",
        "colab": {
          "base_uri": "https://localhost:8080/"
        },
        "outputId": "905514f3-6705-4a97-81c4-3187a1e25364"
      },
      "execution_count": null,
      "outputs": [
        {
          "output_type": "stream",
          "name": "stdout",
          "text": [
            "Principal amount: $ 100 Final amount: $ 110.41 Interest earned: $ 10.41\n",
            "Principal amount: $ 100 Final amount: $ 127.63 Interest earned: $ 27.63\n",
            "Principal amount: $ 100 Final amount: $ 146.93 Interest earned: $ 46.93\n",
            "Principal amount: $ 100 Final amount: $ 161.05 Interest earned: $ 61.05\n"
          ]
        }
      ]
    },
    {
      "cell_type": "markdown",
      "source": [
        "#### Write a simple conclusion on what the effect of better rate of return (more 'r') is on a compounding interest investment? The higher the interest, the more money that can be received in the same amount of time.\n"
      ],
      "metadata": {
        "id": "q5ihxgcKez4g"
      }
    },
    {
      "cell_type": "markdown",
      "source": [
        "### What happens to a compounding interest investment if you also do recurring investment (adding fixed \\$ amount in a fixed time frequency into the principal 'P')"
      ],
      "metadata": {
        "id": "8RPUEsNYe7nw"
      }
    },
    {
      "cell_type": "code",
      "source": [
        "# Calculate the effect of starting principal (more 'P')\n",
        "r = 0.05\n",
        "n = 1\n",
        "T_values = [2, 5, 10, 20, 30]\n",
        "P = 100\n",
        "recurr = 100\n",
        "\n",
        "for T in T_values:\n",
        "  P = P + recurr\n",
        "  A = P * (1 + r / n) ** (n * T)\n",
        "  interest = A - P\n",
        "  print(\"Principal amount: $\", P, \"Final amount: $\", round(A,2), \"Interest earned: $\", round(interest, 2))\n",
        "\n",
        "\n"
      ],
      "metadata": {
        "id": "PXVG53KdffHD",
        "colab": {
          "base_uri": "https://localhost:8080/"
        },
        "outputId": "a0996e1b-b10f-4535-f153-754edf947a2e"
      },
      "execution_count": null,
      "outputs": [
        {
          "output_type": "stream",
          "name": "stdout",
          "text": [
            "Principal amount: $ 200 Final amount: $ 220.5 Interest earned: $ 20.5\n",
            "Principal amount: $ 300 Final amount: $ 382.88 Interest earned: $ 82.88\n",
            "Principal amount: $ 400 Final amount: $ 651.56 Interest earned: $ 251.56\n",
            "Principal amount: $ 500 Final amount: $ 1326.65 Interest earned: $ 826.65\n",
            "Principal amount: $ 600 Final amount: $ 2593.17 Interest earned: $ 1993.17\n"
          ]
        }
      ]
    },
    {
      "cell_type": "markdown",
      "source": [
        "#### What is the effect of disciplined investing using recurring deposits?\n",
        "\n",
        "Use the new compounding interest calculator with recurring investment to calculate the effect of disciplined investing. Assume P=$100, r=5%, n=12 (monthly compounding), t=5.\n",
        "\n",
        "Calculate for different 'rd' (in $): 0, 1, 5, 10, 50, 100"
      ],
      "metadata": {
        "id": "WoKmXBp3gaeN"
      }
    },
    {
      "cell_type": "code",
      "source": [
        "# Calculate the effect of starting principal (more 'P')\n",
        "r = 0.05\n",
        "n = 12\n",
        "T = 5\n",
        "P = 100\n",
        "recurr =  [0, 1, 5, 10, 50, 100]\n",
        "\n",
        "for recurr in recurr:\n",
        "  P = P + recurr\n",
        "  A = P * (1 + r / n) ** (n * T)\n",
        "  interest = A - P\n",
        "  print(\"Principal amount: $\", P, \"Final amount: $\", round(A,2), \"Interest earned: $\", round(interest, 2))\n",
        "\n",
        "\n",
        "\n",
        "\n"
      ],
      "metadata": {
        "id": "gz8NLxgzhHlU",
        "colab": {
          "base_uri": "https://localhost:8080/"
        },
        "outputId": "41f905e4-3c00-4062-d090-6d8f3bb7891d"
      },
      "execution_count": null,
      "outputs": [
        {
          "output_type": "stream",
          "name": "stdout",
          "text": [
            "Principal amount: $ 100 Final amount: $ 128.34 Interest earned: $ 28.34\n",
            "Principal amount: $ 101 Final amount: $ 129.62 Interest earned: $ 28.62\n",
            "Principal amount: $ 106 Final amount: $ 136.04 Interest earned: $ 30.04\n",
            "Principal amount: $ 116 Final amount: $ 148.87 Interest earned: $ 32.87\n",
            "Principal amount: $ 166 Final amount: $ 213.04 Interest earned: $ 47.04\n",
            "Principal amount: $ 266 Final amount: $ 341.37 Interest earned: $ 75.37\n"
          ]
        }
      ]
    },
    {
      "cell_type": "markdown",
      "source": [
        "#### Write a simple conclusion on what is the effect of disciplined investing using recurring deposits?"
      ],
      "metadata": {
        "id": "HzaDkeEmhRTd"
      }
    },
    {
      "cell_type": "markdown",
      "source": [
        "### What problems/decisions that you face in life can be solved using basic Python programming? Share atleast two ideas.\n",
        "Money manager and time organizer\n",
        "\n"
      ],
      "metadata": {
        "id": "V1SICqGdi3bu"
      }
    },
    {
      "cell_type": "markdown",
      "source": [
        "# Final Retrospection:\n",
        "### What challenges did you face while programming with Python?\n",
        "\n",
        "My Python skills are rustier than I thought they were. I need to study more and practice more python\n",
        "\n",
        "\n",
        "\n",
        "### How did you overcome those challenges?\n",
        "\n",
        "I used W3 schools and looked back on old projects I have done.\n",
        "\n",
        "\n",
        "### Mention other resources you used to solve this take-home assignment\n",
        "\n",
        "W3 schools and old project\n",
        "\n",
        "\n",
        "\n",
        "### Did you use any tools (like ChatGPT) to solve the issues? What are the challenges and opportunities?\n",
        "\n",
        "No. I need to practice more python\n",
        "\n",
        "\n",
        "### After this exercise, are you feeling excited to learn more?\n",
        "\n",
        "Yes I am eager to learn more\n",
        "\n",
        "\n",
        "\n",
        "NOTE: Save the file with your code and text answers before committing it to your new GitHub public repository. Send a link to your file on Github to the TA."
      ],
      "metadata": {
        "id": "gnnYEjdqhh7f"
      }
    }
  ]
}